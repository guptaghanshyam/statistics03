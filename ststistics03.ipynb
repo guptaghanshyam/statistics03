{
 "cells": [
  {
   "attachments": {},
   "cell_type": "markdown",
   "metadata": {},
   "source": [
    "Q1. What is the Probability density function?\n"
   ]
  },
  {
   "attachments": {},
   "cell_type": "markdown",
   "metadata": {},
   "source": [
    "The Probability Density Function (PDF) is a function that describes the probability distribution of a continuous random variable. It provides the relative likelihood of observing a specific value or a range of values for the random variable. The PDF represents the shape of the distribution and is often used to calculate the probability of a random variable falling within a certain range."
   ]
  },
  {
   "attachments": {},
   "cell_type": "markdown",
   "metadata": {},
   "source": [
    "Q2. What are the types of Probability distribution?"
   ]
  },
  {
   "attachments": {},
   "cell_type": "markdown",
   "metadata": {},
   "source": [
    "There are several types of probability distributions, including:\n",
    "\n",
    "Normal Distribution (Gaussian Distribution)\n",
    "\n",
    "Binomial Distribution\n",
    "\n",
    "Poisson Distribution\n",
    "\n",
    "Exponential Distribution\n",
    "\n",
    "Uniform Distribution\n",
    "\n",
    "Chi-Squared Distribution\n",
    "\n",
    "Student's t-Distribution\n",
    "\n",
    "Beta Distribution\n",
    "\n",
    "Gamma Distribution\n",
    "\n",
    "Log-Normal Distribution\n",
    "\n",
    "Pareto Distribution\n",
    "\n",
    "Weibull Distribution\n",
    "\n",
    "These are just a few examples of probability distributions, and there are many more distributions with specific characteristics and applications."
   ]
  },
  {
   "attachments": {},
   "cell_type": "markdown",
   "metadata": {},
   "source": [
    "Q3. Write a Python function to calculate the probability density function of a normal distribution with\n",
    "given mean and standard deviation at a given point.\n"
   ]
  },
  {
   "cell_type": "code",
   "execution_count": 1,
   "metadata": {},
   "outputs": [],
   "source": [
    "import math\n",
    "def normal_pdf(x , mean , std_dev):\n",
    "    coefficient =1 /(std_dev * math.sqrt(2 * math.pi))\n",
    "    exponont = -((x-mean)**2)/(2* std_dev **2)\n",
    "    pdf = coefficient * math.exp(exponent)\n",
    "    return pdf"
   ]
  },
  {
   "attachments": {},
   "cell_type": "markdown",
   "metadata": {},
   "source": [
    "Q4. What are the properties of Binomial distribution? Give two examples of events where binomial\n",
    "distribution can be applied."
   ]
  },
  {
   "attachments": {},
   "cell_type": "markdown",
   "metadata": {},
   "source": [
    "Properties of the Binomial Distribution:\n",
    "\n",
    "The binomial distribution models a fixed number of independent Bernoulli trials.\n",
    "\n",
    "Each trial has two possible outcomes: success or failure.\n",
    "\n",
    "The trials are independent and have the same probability of success (denoted by p).\n",
    "\n",
    "The random variable of interest is the number of successes in the fixed number of trials.\n",
    "\n",
    "The number of successes follows a binomial distribution.\n",
    "\n",
    "The mean of a binomial distribution is given by μ = n * p, where n is the number of trials and p is the probability of success.\n",
    "\n",
    "The variance of a binomial distribution is given by σ^2 = n * p * (1 - p), where σ is the standard deviation.\n",
    "\n",
    "\n",
    "Examples of events where the binomial distribution can be applied:\n",
    "\n",
    "Flipping a fair coin 10 times and counting the number of heads.\n",
    "Conducting a survey and counting the number of people who choose a particular option out of two options.\n",
    "\n"
   ]
  },
  {
   "attachments": {},
   "cell_type": "markdown",
   "metadata": {},
   "source": [
    "Q5. Generate a random sample of size 1000 from a binomial distribution with probability of success 0.4\n",
    "and plot a histogram of the results using matplotlib."
   ]
  },
  {
   "cell_type": "code",
   "execution_count": 6,
   "metadata": {},
   "outputs": [
    {
     "data": {
      "image/png": "[encoded data removed]",
      "text/plain": [
       "<Figure size 640x480 with 1 Axes>"
      ]
     },
     "metadata": {},
     "output_type": "display_data"
    }
   ],
   "source": [
    "import numpy as np\n",
    "import matplotlib.pyplot as plt\n",
    "\n",
    "sample = np.random.binomial(n=1,p=0.4,size=1000)\n",
    "plt.hist(sample, bins=2, edgecolor ='black')\n",
    "plt.xlabel('success or failure')\n",
    "plt.ylabel('frequency')\n",
    "plt.title('binomial Distribution')\n",
    "plt.show()"
   ]
  },
  {
   "attachments": {},
   "cell_type": "markdown",
   "metadata": {},
   "source": [
    "Q6. Write a Python function to calculate the cumulative distribution function of a Poisson distribution\n",
    "with given mean at a given point.\n"
   ]
  },
  {
   "cell_type": "code",
   "execution_count": 9,
   "metadata": {},
   "outputs": [],
   "source": [
    "import math\n",
    "def poisson_cdf(x, mean):\n",
    "    cdf = 0.0\n",
    "    for k in range(int(x) + 1):\n",
    "        cdf+=(math.exp(-mean)* mean ** k) / math.factorial(k)\n",
    "    return cdf   "
   ]
  },
  {
   "attachments": {},
   "cell_type": "markdown",
   "metadata": {},
   "source": [
    "Q7. How Binomial distribution different from Poisson distribution?"
   ]
  },
  {
   "attachments": {},
   "cell_type": "markdown",
   "metadata": {},
   "source": [
    "Binomial distribution: It models the number of successes in a fixed number of independent Bernoulli trials with a constant probability of success. The number of trials is discrete, and the probability of success remains the same for each trial.\n",
    "\n",
    "Poisson distribution: It models the number of events that occur in a fixed interval of time or space. It is often used to approximate the behavior of rare events when the average rate of occurrence is known. The number of events can take on any non-negative integer value, and the events are assumed to occur independently of each other.\n"
   ]
  },
  {
   "attachments": {},
   "cell_type": "markdown",
   "metadata": {},
   "source": [
    "Q8. Generate a random sample of size 1000 from a Poisson distribution with mean 5 and calculate the\n",
    "sample mean and variance.\n"
   ]
  },
  {
   "cell_type": "code",
   "execution_count": 11,
   "metadata": {},
   "outputs": [
    {
     "name": "stdout",
     "output_type": "stream",
     "text": [
      "Sample Mean: 4.952\n",
      "Sample Variance: 4.845696\n"
     ]
    }
   ],
   "source": [
    "import numpy as np\n",
    "\n",
    "sample = np.random.poisson(lam=5, size=1000)\n",
    "sample_mean = np.mean(sample)\n",
    "sample_variance = np.var(sample)\n",
    "\n",
    "print(\"Sample Mean:\", sample_mean)\n",
    "print(\"Sample Variance:\", sample_variance)\n"
   ]
  },
  {
   "attachments": {},
   "cell_type": "markdown",
   "metadata": {},
   "source": [
    "Q9. How mean and variance are related in Binomial distribution and Poisson distribution?\n",
    "\n",
    "\n"
   ]
  },
  {
   "attachments": {},
   "cell_type": "markdown",
   "metadata": {},
   "source": [
    "The mean (μ) represents the average or expected number of successes or events.\n",
    "The variance (σ^2) represents the measure of how much the values in the distribution deviate from the mean.\n",
    "\n",
    "For the Binomial distribution, the mean is given by μ = n * p, where n is the number of trials and p is the probability of success. The variance is given by σ^2 = n * p * (1 - p).\n",
    "\n",
    "For the Poisson distribution, the mean (μ) is equal to the variance (σ^2). In other words, both the mean and variance are equal and are represented by the parameter lambda (λ) of the Poisson distribution."
   ]
  },
  {
   "attachments": {},
   "cell_type": "markdown",
   "metadata": {},
   "source": [
    "Q10. In normal distribution with respect to mean position, where does the least frequent data appear?\n"
   ]
  },
  {
   "attachments": {},
   "cell_type": "markdown",
   "metadata": {},
   "source": [
    "\n",
    " In a normal distribution, the least frequent data appears in the tails of the distribution, far away from the mean. The normal distribution is symmetric, and the data becomes progressively less frequent as it moves further from the mean in both directions. Therefore, the least frequent data points are found in the extreme ends of the distribution, which are the tails."
   ]
  },
  {
   "attachments": {},
   "cell_type": "markdown",
   "metadata": {},
   "source": []
  }
 ],
 "metadata": {
  "kernelspec": {
   "display_name": "base",
   "language": "python",
   "name": "python3"
  },
  "language_info": {
   "codemirror_mode": {
    "name": "ipython",
    "version": 3
   },
   "file_extension": ".py",
   "mimetype": "text/x-python",
   "name": "python",
   "nbconvert_exporter": "python",
   "pygments_lexer": "ipython3",
   "version": "3.10.9"
  },
  "orig_nbformat": 4
 },
 "nbformat": 4,
 "nbformat_minor": 2
}
